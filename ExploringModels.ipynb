{
 "cells": [
  {
   "cell_type": "code",
   "execution_count": 1,
   "metadata": {},
   "outputs": [],
   "source": [
    "import cobra"
   ]
  },
  {
   "cell_type": "code",
   "execution_count": 2,
   "metadata": {},
   "outputs": [
    {
     "name": "stderr",
     "output_type": "stream",
     "text": [
      "cobra/core/reaction.py:394 \u001b[1;31mUserWarning\u001b[0m: malformed gene_reaction_rule '2*(ATCG00020 and ATCG00680 and ATCG00280 and ATCG00270 and ATCG00580 and ATCG00570 and ATCG00710 and ATCG00080 and ATCG00550 and ATCG00070 and ATCG00560 and ATCG00220 and ATCG00700 and (AT5G66570 or AT3G50820) and AT1G06680 and (AT4G21280 or AT4G05180) and AT1G79040 and AT1G44575 and ATCG00690 and AT3G21055 and AT2G30570 and AT2G06520 and AT1G67740 and ATCG00300)' for <Reaction PSII_h at 0x7f4d9ba585c0>\n",
      "cobra/core/reaction.py:394 \u001b[1;31mUserWarning\u001b[0m: malformed gene_reaction_rule '2*(ATCG00540 and ATCG00720 and AT4G03280 and ATCG00730 and ATCG00600 and ATCG00590 and AT2G26500 and ATCG00210)' for <Reaction Cytb6f_h at 0x7f4d5c80cd68>\n",
      "cobra/core/reaction.py:394 \u001b[1;31mUserWarning\u001b[0m: malformed gene_reaction_rule '8*(ATCG00490) and 8*(AT5G38430 or AT5G38420 or AT1G67090 or AT5G38410)' for <Reaction RBC_h at 0x7f4d5c7ad3c8>\n",
      "cobra/core/reaction.py:394 \u001b[1;31mUserWarning\u001b[0m: malformed gene_reaction_rule '4*(AT3G26650 or AT1G12900) or (2*(AT3G26650 or AT1G12900) and 2*(AT1G42970))' for <Reaction GAPDH1_h at 0x7f4d5c7ad780>\n",
      "cobra/core/reaction.py:394 \u001b[1;31mUserWarning\u001b[0m: malformed gene_reaction_rule '2*(AT3G55440 or AT2G21170)' for <Reaction TPI_h at 0x7f4d5c7adc50>\n",
      "cobra/core/reaction.py:394 \u001b[1;31mUserWarning\u001b[0m: malformed gene_reaction_rule '4*(AT2G01140 or AT4G26530 or AT3G52930 or AT4G38970 or AT5G03690 or AT2G21330)' for <Reaction FBPA_h at 0x7f4d5c7b70b8>\n",
      "cobra/core/reaction.py:394 \u001b[1;31mUserWarning\u001b[0m: malformed gene_reaction_rule '4*(AT3G54050)' for <Reaction FBPase_h at 0x7f4d5c7b7048>\n",
      "cobra/core/reaction.py:394 \u001b[1;31mUserWarning\u001b[0m: malformed gene_reaction_rule '2*(AT3G60750 or AT2G45290)' for <Reaction FTK_h at 0x7f4d5c7b72e8>\n",
      "cobra/core/reaction.py:394 \u001b[1;31mUserWarning\u001b[0m: malformed gene_reaction_rule '4*(AT2G01140 or AT4G26530 or AT3G52930 or AT4G38970 or AT5G03690 or AT2G21330)' for <Reaction SBPA_h at 0x7f4d5c7b75c0>\n",
      "cobra/core/reaction.py:394 \u001b[1;31mUserWarning\u001b[0m: malformed gene_reaction_rule '2*(AT3G55800)' for <Reaction SBPase_h at 0x7f4d5c7b7550>\n",
      "cobra/core/reaction.py:394 \u001b[1;31mUserWarning\u001b[0m: malformed gene_reaction_rule '2*(AT3G60750 or AT2G45290)' for <Reaction STK_h at 0x7f4d5c7b77b8>\n",
      "cobra/core/reaction.py:394 \u001b[1;31mUserWarning\u001b[0m: malformed gene_reaction_rule '8*(AT5G61410)' for <Reaction Ru5PE_h at 0x7f4d5c7b7a90>\n",
      "cobra/core/reaction.py:394 \u001b[1;31mUserWarning\u001b[0m: malformed gene_reaction_rule '2*(AT3G04790)' for <Reaction R5PI_h at 0x7f4d5c7b7b70>\n",
      "cobra/core/reaction.py:394 \u001b[1;31mUserWarning\u001b[0m: malformed gene_reaction_rule '2*(AT1G32060)' for <Reaction Ru5PK_h at 0x7f4d5c7b7cc0>\n",
      "cobra/core/reaction.py:394 \u001b[1;31mUserWarning\u001b[0m: malformed gene_reaction_rule '2*(AT4G24620)' for <Reaction PGI_h at 0x7f4d5c7b7be0>\n",
      "cobra/core/reaction.py:394 \u001b[1;31mUserWarning\u001b[0m: malformed gene_reaction_rule '2*(AT5G19220 or AT1G27680 or AT4G39210 or AT2G21590) and 2*(AT5G48300 or AT1G05610)' for <Reaction AGPase_h at 0x7f4d5c7b7f60>\n",
      "cobra/core/reaction.py:394 \u001b[1;31mUserWarning\u001b[0m: malformed gene_reaction_rule '2*(AT3G55440 or AT2G21170)' for <Reaction TPI_c at 0x7f4d5c7c0b70>\n",
      "cobra/core/reaction.py:394 \u001b[1;31mUserWarning\u001b[0m: malformed gene_reaction_rule '4*(AT4G26520 or AT4G26530 or AT3G52930 or AT2G36460 or AT5G03690)' for <Reaction FBPA_c at 0x7f4d5c7c78d0>\n",
      "cobra/core/reaction.py:394 \u001b[1;31mUserWarning\u001b[0m: malformed gene_reaction_rule '4*(AT1G43670)' for <Reaction FBPase_c at 0x7f4d5c7c7860>\n",
      "cobra/core/reaction.py:394 \u001b[1;31mUserWarning\u001b[0m: malformed gene_reaction_rule '4*(AT1G07110)' for <Reaction F6PK2_c at 0x7f4d5c7c7be0>\n",
      "cobra/core/reaction.py:394 \u001b[1;31mUserWarning\u001b[0m: malformed gene_reaction_rule '4*(AT1G07110)' for <Reaction F26BPPh_c at 0x7f4d5c7c7898>\n",
      "cobra/core/reaction.py:394 \u001b[1;31mUserWarning\u001b[0m: malformed gene_reaction_rule '2*(AT4G24620 or AT5G42740)' for <Reaction PGI_c at 0x7f4d5c7c7b70>\n",
      "cobra/core/reaction.py:394 \u001b[1;31mUserWarning\u001b[0m: malformed gene_reaction_rule '2*(AT5G20280) or 4*(AT5G20280)' for <Reaction S6PS_c at 0x7f4d5c7b5278>\n",
      "cobra/core/reaction.py:394 \u001b[1;31mUserWarning\u001b[0m: malformed gene_reaction_rule '2*(AT2G35840 or AT3G52340)' for <Reaction S6PPh_c at 0x7f4d5c7b5400>\n",
      "cobra/core/reaction.py:394 \u001b[1;31mUserWarning\u001b[0m: malformed gene_reaction_rule '4*(AT5G20830 or AT5G49190 or AT3G43190)' for <Reaction SucS_c at 0x7f4d5c7b5588>\n",
      "cobra/core/reaction.py:394 \u001b[1;31mUserWarning\u001b[0m: malformed gene_reaction_rule '4*(AT1G53310 or AT2G42600 or AT3G14940 or AT1G68750)' for <Reaction PEPC2_c at 0x7f4d5c7d5ac8>\n",
      "cobra/core/reaction.py:394 \u001b[1;31mUserWarning\u001b[0m: malformed gene_reaction_rule '2*(AT2G29560 or AT2G36530)' for <Reaction Enol_c at 0x7f4d5c7d5cc0>\n",
      "cobra/core/reaction.py:394 \u001b[1;31mUserWarning\u001b[0m: malformed gene_reaction_rule '4*(AT3G04120 or AT1G13440)' for <Reaction GAPDH2_c at 0x7f4d5c7d5e80>\n",
      "cobra/core/reaction.py:394 \u001b[1;31mUserWarning\u001b[0m: malformed gene_reaction_rule '4*(AT1G79530 or AT1G16300)' for <Reaction GAPDH2_h at 0x7f4d5c75e208>\n",
      "cobra/core/reaction.py:394 \u001b[1;31mUserWarning\u001b[0m: malformed gene_reaction_rule '2*(AT1G74030 or AT2G36530)' for <Reaction Enol_h at 0x7f4d5c75e9b0>\n",
      "cobra/core/reaction.py:394 \u001b[1;31mUserWarning\u001b[0m: malformed gene_reaction_rule '4*(AT3G04050 or AT5G08570 or AT3G25960 or AT2G36580 or AT3G55650 or AT3G55810 or AT5G63680 or AT3G52990)' for <Reaction PyrK_c at 0x7f4d5c75ec18>\n",
      "cobra/core/reaction.py:394 \u001b[1;31mUserWarning\u001b[0m: malformed gene_reaction_rule '4*(AT3G22960) and 4*(AT5G52920 or AT1G32440)' for <Reaction PyrK_h at 0x7f4d5c75eeb8>\n",
      "cobra/core/reaction.py:394 \u001b[1;31mUserWarning\u001b[0m: malformed gene_reaction_rule '2*(AT1G59900) and 2*(AT5G50850)' for <Reaction PyrDH1_m at 0x7f4d5c75ee80>\n",
      "cobra/core/reaction.py:394 \u001b[1;31mUserWarning\u001b[0m: malformed gene_reaction_rule '2*(AT1G59900) and 2*(AT5G50850)' for <Reaction PyrDH2_m at 0x7f4d5c769048>\n",
      "cobra/core/reaction.py:394 \u001b[1;31mUserWarning\u001b[0m: malformed gene_reaction_rule '3*(AT3G52200 or AT3G13930 or AT1G54220)' for <Reaction DHLAcT_m at 0x7f4d5c769128>\n",
      "cobra/core/reaction.py:394 \u001b[1;31mUserWarning\u001b[0m: malformed gene_reaction_rule '2*(AT1G48030 or AT3G17240)' for <Reaction DHLDH2_m at 0x7f4d5c769208>\n",
      "cobra/core/reaction.py:394 \u001b[1;31mUserWarning\u001b[0m: malformed gene_reaction_rule '2*(AT5G65750 or AT3G55410)' for <Reaction KGDH_m at 0x7f4d5c769ac8>\n",
      "cobra/core/reaction.py:394 \u001b[1;31mUserWarning\u001b[0m: malformed gene_reaction_rule '3*(AT5G55070 or AT4G26910)' for <Reaction DHLST_m at 0x7f4d5c769c18>\n",
      "cobra/core/reaction.py:394 \u001b[1;31mUserWarning\u001b[0m: malformed gene_reaction_rule '(ATMG01275 or ATMG01120 or ATMG00516) and (ATMG00285 or ATMG01320) and ATMG00990 and (ATMG00580 or ATMG00650) and (ATMG00513 or ATMG00665 or ATMG00060) and ATMG00270 and ATMG00510 and ATMG00070 and AT5G37510 and AT5G11770 (AT1G79010 or AT1G16700) and AT5G08530 and AT4G02580' for <Reaction cplx1_m at 0x7f4d5c7713c8>\n",
      "cobra/core/reaction.py:394 \u001b[1;31mUserWarning\u001b[0m: malformed gene_reaction_rule '3*(ATMG01190) and 3*(AT5G08670 or AT5G08690 or AT5G08680) and AT2G33040 and (AT5G13450 or AT5G47030) and AT1G51650 and (ATMG00410 or ATMG01170) and 2*(ATMG00640 or ATMG00480) and 12*(ATMG01080 or AT2G07671) and AT3G52300' for <Reaction cplx5_m at 0x7f4d5c771e80>\n",
      "cobra/core/reaction.py:394 \u001b[1;31mUserWarning\u001b[0m: malformed gene_reaction_rule '8*(ATCG00490) and 8*(AT5G38430 or AT5G38420 or AT1G67090 or AT5G38410)' for <Reaction RBO_h at 0x7f4d5c771da0>\n",
      "cobra/core/reaction.py:394 \u001b[1;31mUserWarning\u001b[0m: malformed gene_reaction_rule '4*(AT1G20620 or AT1G20630 or AT4G35090)' for <Reaction CAT_p at 0x7f4d5c771f28>\n",
      "cobra/core/reaction.py:394 \u001b[1;31mUserWarning\u001b[0m: malformed gene_reaction_rule '2*(AT4G33010 or AT2G26080)' for <Reaction GlyDH_m at 0x7f4d5c783198>\n",
      "cobra/core/reaction.py:394 \u001b[1;31mUserWarning\u001b[0m: malformed gene_reaction_rule '2*(AT1G48030 or AT3G17240)' for <Reaction DHLDH1_m at 0x7f4d5c7832e8>\n",
      "cobra/core/reaction.py:394 \u001b[1;31mUserWarning\u001b[0m: malformed gene_reaction_rule '4*(AT4G37930 or AT5G26780)' for <Reaction GlyHMT_m at 0x7f4d5c783320>\n",
      "cobra/core/reaction.py:394 \u001b[1;31mUserWarning\u001b[0m: malformed gene_reaction_rule '2*(AT2G13360)' for <Reaction SGAT_p at 0x7f4d5c783748>\n",
      "cobra/core/reaction.py:394 \u001b[1;31mUserWarning\u001b[0m: malformed gene_reaction_rule '4*(AT2G19900 or AT5G11670 or AT5G25880)' for <Reaction MalDH2NADP_c at 0x7f4d5c85e7b8>\n",
      "cobra/core/reaction.py:394 \u001b[1;31mUserWarning\u001b[0m: malformed gene_reaction_rule '4*(AT5G11670 or AT5G25880 or AT1G79750)' for <Reaction MalDH2NADP_h at 0x7f4d5c85e8d0>\n",
      "cobra/core/reaction.py:394 \u001b[1;31mUserWarning\u001b[0m: malformed gene_reaction_rule '4*(AT1G10670 or AT1G60810 or AT1G09430) and 4*(AT3G06650 orAT5G49460)' for <Reaction ATPCitL_c at 0x7f4d5c8daf60>\n",
      "cobra/core/reaction.py:394 \u001b[1;31mUserWarning\u001b[0m: malformed gene_reaction_rule '(AT5G16390 or AT5G15530) and AT5G35360 and 2*(AT2G38040) and 2*(ATCG00500)' for <Reaction ACoAC_h at 0x7f4d5c8d44e0>\n",
      "cobra/core/reaction.py:394 \u001b[1;31mUserWarning\u001b[0m: malformed gene_reaction_rule '2*(AT4G35460 or AT2G17420 or AT2G41680)' for <Reaction TRXR_c at 0x7f4d5c8ce0b8>\n",
      "cobra/core/reaction.py:394 \u001b[1;31mUserWarning\u001b[0m: malformed gene_reaction_rule '2*(AT4G12440 or AT5G11160 or AT4G22570 or AT1G27450 or AT1G80050)' for <Reaction ADPRPPT_c at 0x7f4d5c8d4fd0>\n",
      "cobra/core/reaction.py:394 \u001b[1;31mUserWarning\u001b[0m: malformed gene_reaction_rule '2*(AT1G77760 or AT1G37130)' for <Reaction NO3R1_c at 0x7f4d5c8ce860>\n",
      "cobra/core/reaction.py:394 \u001b[1;31mUserWarning\u001b[0m: malformed gene_reaction_rule '2*(AT1G77760 or AT1G37130)' for <Reaction NO3R2_c at 0x7f4d5c8cea20>\n",
      "cobra/core/reaction.py:394 \u001b[1;31mUserWarning\u001b[0m: malformed gene_reaction_rule '4*(AT3G22890 or AT1G19920 or AT4G14680 or AT5G43780)' for <Reaction ATPSL_h at 0x7f4d5c8cecc0>\n",
      "cobra/core/reaction.py:394 \u001b[1;31mUserWarning\u001b[0m: malformed gene_reaction_rule '2*(AT3G54660)' for <Reaction GSSGR_h at 0x7f4d5c8cefd0>\n",
      "cobra/core/reaction.py:394 \u001b[1;31mUserWarning\u001b[0m: malformed gene_reaction_rule '(AT1G08065 or AT5G04180 or AT4G20990 or AT4G21000 or AT2G28210 or AT3G52720) or 8*(AT1G23730 or AT5G14740)' for <Reaction HCO3DHA_c at 0x7f4d5c78f048>\n",
      "cobra/core/reaction.py:394 \u001b[1;31mUserWarning\u001b[0m: malformed gene_reaction_rule '(AT4G20990 or AT1G08080 or AT3G52720) or 8*(AT1G23730 or AT1G70410 or AT1G58180 or AT3G01500 or AT5G14740 or AT4G33580)' for <Reaction HCO3DHA_h at 0x7f4d5c78f278>\n",
      "cobra/core/reaction.py:394 \u001b[1;31mUserWarning\u001b[0m: malformed gene_reaction_rule '6*(AT3G57560)' for <Reaction AGluK at 0x7f4d5c78fa58>\n",
      "cobra/core/reaction.py:394 \u001b[1;31mUserWarning\u001b[0m: malformed gene_reaction_rule '2*(AT5G08100) and 2*(AT3G16150)' for <Reaction Asnase_c at 0x7f4d5c796d30>\n",
      "cobra/core/reaction.py:394 \u001b[1;31mUserWarning\u001b[0m: malformed gene_reaction_rule '6*(AT1G55920 or AT2G17640 or AT3G13110 or AT4G35640 or AT5G56760)' for <Reaction SerAcT_c at 0x7f4d5c796eb8>\n",
      "cobra/core/reaction.py:394 \u001b[1;31mUserWarning\u001b[0m: malformed gene_reaction_rule '6*(AT1G55920 or AT3G13110)' for <Reaction SerAcT_h at 0x7f4d5c79c198>\n",
      "cobra/core/reaction.py:394 \u001b[1;31mUserWarning\u001b[0m: malformed gene_reaction_rule '6*(AT1G55920 or AT3G13110)' for <Reaction SerAcT_m at 0x7f4d5c79c358>\n",
      "cobra/core/reaction.py:394 \u001b[1;31mUserWarning\u001b[0m: malformed gene_reaction_rule '2*(AT4G14880 or AT3G22460)' for <Reaction CysS_c at 0x7f4d5c79c5c0>\n",
      "cobra/core/reaction.py:394 \u001b[1;31mUserWarning\u001b[0m: malformed gene_reaction_rule '2*(AT3G61440 or AT3G03630 or AT4G14880 or AT2G43750)' for <Reaction CysS_h at 0x7f4d5c79c748>\n",
      "cobra/core/reaction.py:394 \u001b[1;31mUserWarning\u001b[0m: malformed gene_reaction_rule '2*(AT3G61440 or AT3G03630 or AT2G43750 or AT5G28020)' for <Reaction CysS_m at 0x7f4d5c79c908>\n",
      "cobra/core/reaction.py:394 \u001b[1;31mUserWarning\u001b[0m: malformed gene_reaction_rule '6*(AT5G18170 or AT5G07440 or AT3G03910)' for <Reaction GluDH1NAD_m at 0x7f4d5c79ce48>\n",
      "cobra/core/reaction.py:394 \u001b[1;31mUserWarning\u001b[0m: malformed gene_reaction_rule '6*(AT5G18170 or AT5G07440 or AT3G03910)' for <Reaction GluDH1NADP_m at 0x7f4d5c79ceb8>\n",
      "cobra/core/reaction.py:394 \u001b[1;31mUserWarning\u001b[0m: malformed gene_reaction_rule '6*(AT5G18170 or AT5G07440)' for <Reaction GluDH2NAD_m at 0x7f4d5c7261d0>\n",
      "cobra/core/reaction.py:394 \u001b[1;31mUserWarning\u001b[0m: malformed gene_reaction_rule '6*(AT5G17330 or AT1G65960 or AT2G02000 or AT2G02010 or AT3G17760)' for <Reaction GluDC_c at 0x7f4d5c7264e0>\n",
      "cobra/core/reaction.py:394 \u001b[1;31mUserWarning\u001b[0m: malformed gene_reaction_rule '2*(AT3G22200)' for <Reaction GABATA1_m at 0x7f4d5c726470>\n",
      "cobra/core/reaction.py:394 \u001b[1;31mUserWarning\u001b[0m: malformed gene_reaction_rule '2*(AT3G22200)' for <Reaction GABATA2_m at 0x7f4d5c726668>\n",
      "cobra/core/reaction.py:394 \u001b[1;31mUserWarning\u001b[0m: malformed gene_reaction_rule '4*(AT1G79440)' for <Reaction SCASeADH_m at 0x7f4d5c726710>\n",
      "cobra/core/reaction.py:394 \u001b[1;31mUserWarning\u001b[0m: malformed gene_reaction_rule '8*(AT5G37600 or AT3G17820 or AT5G16570 or AT1G66200)' for <Reaction GlnS_c at 0x7f4d5c726940>\n",
      "cobra/core/reaction.py:394 \u001b[1;31mUserWarning\u001b[0m: malformed gene_reaction_rule '8*(AT3G17820 or AT1G48470 or AT5G35630)' for <Reaction GlnS_h at 0x7f4d5c726b70>\n",
      "cobra/core/reaction.py:394 \u001b[1;31mUserWarning\u001b[0m: malformed gene_reaction_rule '8*(AT5G35630)' for <Reaction GlnS_m at 0x7f4d5c726d30>\n",
      "cobra/core/reaction.py:394 \u001b[1;31mUserWarning\u001b[0m: malformed gene_reaction_rule '4*(AT1G20620 or AT1G20630 or AT4G35090)' for <Reaction CAT_h at 0x7f4d5c732048>\n",
      "cobra/core/reaction.py:394 \u001b[1;31mUserWarning\u001b[0m: malformed gene_reaction_rule '2*(AT2G13360' for <Reaction SGAT_h at 0x7f4d5c7324e0>\n",
      "cobra/core/reaction.py:394 \u001b[1;31mUserWarning\u001b[0m: malformed gene_reaction_rule '4*(AT3G10050)' for <Reaction ThrDA_h at 0x7f4d5c73b278>\n",
      "cobra/core/reaction.py:394 \u001b[1;31mUserWarning\u001b[0m: malformed gene_reaction_rule '2*(AT3G48560)' for <Reaction ALS1_h at 0x7f4d5c73b390>\n",
      "cobra/core/reaction.py:394 \u001b[1;31mUserWarning\u001b[0m: malformed gene_reaction_rule '2*(AT3G48560)' for <Reaction ALS2_h at 0x7f4d5c73b470>\n",
      "cobra/core/reaction.py:394 \u001b[1;31mUserWarning\u001b[0m: malformed gene_reaction_rule '2*(AT3G48560)' for <Reaction ALS3_h at 0x7f4d5c73ba20>\n",
      "cobra/core/reaction.py:394 \u001b[1;31mUserWarning\u001b[0m: malformed gene_reaction_rule '2*(AT1G18500) or 4*(AT1G74040)' for <Reaction 2IPMS_h at 0x7f4d5c73bf28>\n",
      "cobra/core/reaction.py:394 \u001b[1;31mUserWarning\u001b[0m: malformed gene_reaction_rule '4*(AT4G19710 or AT1G31230 or AT5G13280 or AT3G02020 or AT5G14060)' for <Reaction AspK_h at 0x7f4d5c746780>\n",
      "cobra/core/reaction.py:394 \u001b[1;31mUserWarning\u001b[0m: malformed gene_reaction_rule '2*(AT1G14810)' for <Reaction Asp_DASH_SeADH_h at 0x7f4d5c7466d8>\n",
      "cobra/core/reaction.py:394 \u001b[1;31mUserWarning\u001b[0m: malformed gene_reaction_rule '2*(AT4G33680)' for <Reaction DAPAT_h at 0x7f4d5c746dd8>\n",
      "cobra/core/reaction.py:394 \u001b[1;31mUserWarning\u001b[0m: malformed gene_reaction_rule '4*(AT1G31230 AT4G19710)' for <Reaction HSerDHNADP_h at 0x7f4d5c746d68>\n",
      "cobra/core/reaction.py:394 \u001b[1;31mUserWarning\u001b[0m: malformed gene_reaction_rule '4*(AT1G31230 AT4G19710)' for <Reaction HSerDHNAD_h at 0x7f4d5c74f240>\n",
      "cobra/core/reaction.py:394 \u001b[1;31mUserWarning\u001b[0m: malformed gene_reaction_rule '4*(AT3G57050)' for <Reaction CTHL_h at 0x7f4d5c74f7b8>\n",
      "cobra/core/reaction.py:394 \u001b[1;31mUserWarning\u001b[0m: malformed gene_reaction_rule '2*(AT2G44160 or AT3G59970)' for <Reaction 5M_DASH_THFor_c at 0x7f4d5c74f748>\n",
      "cobra/core/reaction.py:394 \u001b[1;31mUserWarning\u001b[0m: malformed gene_reaction_rule '4*(AT4G13930 or AT4G13890 or AT1G22020 or AT1G36370 or AT4G37930 or AT5G26780)' for <Reaction GlyHMT_c at 0x7f4d5c74f9b0>\n",
      "cobra/core/reaction.py:394 \u001b[1;31mUserWarning\u001b[0m: malformed gene_reaction_rule '2*(AT4G29840 or AT1G72810)' for <Reaction ThrS_h at 0x7f4d5c6e7128>\n",
      "cobra/core/reaction.py:394 \u001b[1;31mUserWarning\u001b[0m: malformed gene_reaction_rule '2*(AT1G24807) and 2*(AT3G55870 or AT5G05730 or AT2G29690)' for <Reaction ANTS_h at 0x7f4d5c6e72e8>\n",
      "cobra/core/reaction.py:394 \u001b[1;31mUserWarning\u001b[0m: malformed gene_reaction_rule '2*(AT2G38280)' for <Reaction AMPDA_c at 0x7f4d5c6f0940>\n",
      "cobra/core/reaction.py:394 \u001b[1;31mUserWarning\u001b[0m: malformed gene_reaction_rule '2*(AT3G57610)' for <Reaction DCAMPS_h at 0x7f4d5c6f05f8>\n",
      "cobra/core/reaction.py:394 \u001b[1;31mUserWarning\u001b[0m: malformed gene_reaction_rule '2*(AT2G21790) and 2*(AT3G23580 or AT3G27060)' for <Reaction ADPR_c at 0x7f4d5c6f9f28>\n",
      "cobra/core/reaction.py:394 \u001b[1;31mUserWarning\u001b[0m: malformed gene_reaction_rule '2*(AT2G21790) and 2*(AT3G23580 or AT3G27060)' for <Reaction CDPR_c at 0x7f4d5c7000f0>\n",
      "cobra/core/reaction.py:394 \u001b[1;31mUserWarning\u001b[0m: malformed gene_reaction_rule '2*(AT2G21790) and 2*(AT3G23580 or AT3G27060)' for <Reaction GDPR_c at 0x7f4d5c700278>\n",
      "cobra/core/reaction.py:394 \u001b[1;31mUserWarning\u001b[0m: malformed gene_reaction_rule '2*(AT2G21790) and 2*(AT3G23580 or AT3G27060)' for <Reaction UDPR_c at 0x7f4d5c700400>\n",
      "cobra/core/reaction.py:394 \u001b[1;31mUserWarning\u001b[0m: malformed gene_reaction_rule '3*(AT3G46940)' for <Reaction dUTPP_c at 0x7f4d5c700588>\n",
      "cobra/core/reaction.py:394 \u001b[1;31mUserWarning\u001b[0m: malformed gene_reaction_rule '6*(AT4G09320 or AT5G63310)' for <Reaction GDPK_c at 0x7f4d5c700908>\n",
      "cobra/core/reaction.py:394 \u001b[1;31mUserWarning\u001b[0m: malformed gene_reaction_rule '6*(AT4G09320 or AT5G63310)' for <Reaction GDPK_h at 0x7f4d5c700b00>\n",
      "cobra/core/reaction.py:394 \u001b[1;31mUserWarning\u001b[0m: malformed gene_reaction_rule '6*(AT4G09320 or AT5G63310)' for <Reaction UDPK_c at 0x7f4d5c700c88>\n",
      "cobra/core/reaction.py:394 \u001b[1;31mUserWarning\u001b[0m: malformed gene_reaction_rule '6*(AT4G09320 or AT5G63310)' for <Reaction dADPK_c at 0x7f4d5c700e10>\n",
      "cobra/core/reaction.py:394 \u001b[1;31mUserWarning\u001b[0m: malformed gene_reaction_rule '6*(AT4G09320 or AT5G63310)' for <Reaction dCDPK_c at 0x7f4d5c700f98>\n",
      "cobra/core/reaction.py:394 \u001b[1;31mUserWarning\u001b[0m: malformed gene_reaction_rule '6*(AT4G09320 or AT5G63310)' for <Reaction dGDPK_c at 0x7f4d5c709128>\n",
      "cobra/core/reaction.py:394 \u001b[1;31mUserWarning\u001b[0m: malformed gene_reaction_rule '6*(AT4G09320 or AT5G63310)' for <Reaction dTDPK_c at 0x7f4d5c7092b0>\n",
      "cobra/core/reaction.py:394 \u001b[1;31mUserWarning\u001b[0m: malformed gene_reaction_rule '6*(AT4G09320 or AT5G63310)' for <Reaction dUDPK_c at 0x7f4d5c709438>\n"
     ]
    },
    {
     "name": "stderr",
     "output_type": "stream",
     "text": [
      "cobra/io/sbml.py:235 \u001b[1;31mUserWarning\u001b[0m: S_Peptide_c appears as a reactant and product R00135_c\n",
      "cobra/io/sbml.py:235 \u001b[1;31mUserWarning\u001b[0m: S_1_44_3_45_beta_45_D_45_Glucan_c appears as a reactant and product R00308_c\n",
      "cobra/io/sbml.py:235 \u001b[1;31mUserWarning\u001b[0m: S_1_44_4_45_beta_45_D_45_Mannan_c appears as a reactant and product R00890_c\n",
      "cobra/io/sbml.py:235 \u001b[1;31mUserWarning\u001b[0m: S_Galactan_c appears as a reactant and product R01105_c\n",
      "cobra/io/sbml.py:235 \u001b[1;31mUserWarning\u001b[0m: S_Chitin_c appears as a reactant and product R01206_c\n",
      "cobra/io/sbml.py:235 \u001b[1;31mUserWarning\u001b[0m: S_Isomaltose_c appears as a reactant and product R01719_c\n",
      "cobra/io/sbml.py:235 \u001b[1;31mUserWarning\u001b[0m: S_D_45_Glucosaminide_c appears as a reactant and product R01966_c\n",
      "cobra/io/sbml.py:235 \u001b[1;31mUserWarning\u001b[0m: S_Pectate_c appears as a reactant and product R01982_c\n",
      "cobra/io/sbml.py:235 \u001b[1;31mUserWarning\u001b[0m: S_H2O_p appears as a reactant and product R02108_p\n",
      "cobra/io/sbml.py:235 \u001b[1;31mUserWarning\u001b[0m: S_Chitin_c appears as a reactant and product R02334_c\n",
      "cobra/io/sbml.py:235 \u001b[1;31mUserWarning\u001b[0m: S_Pectate_c appears as a reactant and product R02360_c\n",
      "cobra/io/sbml.py:235 \u001b[1;31mUserWarning\u001b[0m: S_Pectate_c appears as a reactant and product R02361_c\n",
      "cobra/io/sbml.py:235 \u001b[1;31mUserWarning\u001b[0m: S_H2O_c appears as a reactant and product R03600_c\n",
      "cobra/io/sbml.py:235 \u001b[1;31mUserWarning\u001b[0m: S_Tetrahydrofolyl_45__91_Glu_93__40_n_41__c appears as a reactant and product R04241_c\n",
      "cobra/io/sbml.py:235 \u001b[1;31mUserWarning\u001b[0m: S_Pentosans_c appears as a reactant and product R04937_c\n",
      "cobra/io/sbml.py:235 \u001b[1;31mUserWarning\u001b[0m: S_Pentosans_c appears as a reactant and product R04938_c\n",
      "cobra/io/sbml.py:235 \u001b[1;31mUserWarning\u001b[0m: S_DNA_c appears as a reactant and product R00376N_c\n"
     ]
    }
   ],
   "source": [
    "Arnold2014 = cobra.io.read_sbml_model(\"Arnold2014.xml\")\n",
    "Poolman2009 = cobra.io.read_sbml_model(\"Poolman2009.xml\")\n",
    "Gomes2010 = cobra.io.read_sbml_model(\"Gomes2010.xml\")"
   ]
  },
  {
   "cell_type": "code",
   "execution_count": 5,
   "metadata": {},
   "outputs": [
    {
     "name": "stdout",
     "output_type": "stream",
     "text": [
      "549\n",
      "1406\n",
      "1601\n"
     ]
    }
   ],
   "source": [
    "print(len(Arnold2014.reactions))\n",
    "print(len(Poolman2009.reactions))\n",
    "print(len(Gomes2010.reactions))"
   ]
  },
  {
   "cell_type": "code",
   "execution_count": 6,
   "metadata": {},
   "outputs": [
    {
     "name": "stdout",
     "output_type": "stream",
     "text": [
      "(0.0, 1000.0)\n",
      "548\n",
      "Bio_opt: 0.58559 ATP_c + 230.67099 Ala_c + 74.68248 Arg_c + 70.5431 Asn_c + 101.03805 Asp_c + 0.49638 CTP_c + 31.11756 Cys_c + 12.0349 Frc_c + 67.20727 Fum_m + 0.09401 GABA_c + 0.40478 GTP_c + 18.47868 Glc_c + 51.2643 Gln_c + 116.39401 Glu_c + 273.48273 Gly_c + 33.2443 His_c + 89.82686 Ile_c + 158.77115 Leu_c + 103.59352 Lys_c + 779.97036 M_DASH_ACP_h + 50.99641 Mal_m + 2.60958 Mas_c + 33.61497 Met_c + 1.58654 Orn_h + 66.66173 Phe_c + 108.03688 Pro_c + 0.37924 SA_h + 0.98709 SCA_m + 147.49851 Ser_c + 30.66837 Suc_c + 136.6831 Thr_c + 0.57736 Tre_c + 16.87103 Trp_c + 47.02921 Tyr_c + 0.61307 UTP_c + 146.26883 Val_c + 363.88306 cellulose2_c + 0.68091 dATP_c + 0.40366 dCTP_c + 0.37141 dGTP_c + 0.69281 dTTP_c + 294.86155 starch2_h + 2.84043 urea_m --> 779.97036 ACP_h + 3125.54 H_h\n",
      "204\n",
      "ATPase: ATP --> ADP + Pi\n",
      "(0.0, 1000.0)\n",
      "47\n",
      "Ex1:  --> S_CO2_c\n"
     ]
    }
   ],
   "source": [
    "r1 = Arnold2014.reactions.get_by_id('Bio_opt')\n",
    "ind1 = Arnold2014.reactions.index(r1)\n",
    "print(r1.bounds)\n",
    "print(ind1)\n",
    "print(Arnold2014.reactions[ind1])\n",
    "\n",
    "r2 = Poolman2009.reactions.get_by_id('ATPase')\n",
    "ind2 = Poolman2009.reactions.index(r2)\n",
    "print(ind2)\n",
    "print(Poolman2009.reactions[ind2])\n",
    "\n",
    "r3 = Gomes2010.reactions.get_by_id('Ex1')\n",
    "print(r3.bounds)\n",
    "ind3 = Gomes2010.reactions.index(r3)\n",
    "print(ind3)\n",
    "print(Gomes2010.reactions[ind3])\n",
    "\n"
   ]
  },
  {
   "cell_type": "code",
   "execution_count": null,
   "metadata": {},
   "outputs": [],
   "source": []
  }
 ],
 "metadata": {
  "kernelspec": {
   "display_name": "Python 3",
   "language": "python",
   "name": "python3"
  },
  "language_info": {
   "codemirror_mode": {
    "name": "ipython",
    "version": 3
   },
   "file_extension": ".py",
   "mimetype": "text/x-python",
   "name": "python",
   "nbconvert_exporter": "python",
   "pygments_lexer": "ipython3",
   "version": "3.5.2"
  }
 },
 "nbformat": 4,
 "nbformat_minor": 2
}
